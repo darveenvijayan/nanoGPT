{
  "cells": [
    {
      "cell_type": "markdown",
      "metadata": {
        "id": "view-in-github",
        "colab_type": "text"
      },
      "source": [
        "<a href=\"https://colab.research.google.com/github/darveenvijayan/nanoGPT/blob/master/nanoGPT.ipynb\" target=\"_parent\"><img src=\"https://colab.research.google.com/assets/colab-badge.svg\" alt=\"Open In Colab\"/></a>"
      ]
    },
    {
      "cell_type": "code",
      "source": [
        "!pip install -q torch numpy transformers datasets tiktoken wandb tqdm"
      ],
      "metadata": {
        "id": "y8RO_B8HwKm2",
        "outputId": "8f990dcc-981b-491a-8397-ee2217d82367",
        "colab": {
          "base_uri": "https://localhost:8080/"
        }
      },
      "execution_count": null,
      "outputs": [
        {
          "output_type": "stream",
          "name": "stdout",
          "text": [
            "\u001b[2K     \u001b[90m━━━━━━━━━━━━━━━━━━━━━━━━━━━━━━━━━━━━━━━━\u001b[0m \u001b[32m7.4/7.4 MB\u001b[0m \u001b[31m28.0 MB/s\u001b[0m eta \u001b[36m0:00:00\u001b[0m\n",
            "\u001b[2K     \u001b[90m━━━━━━━━━━━━━━━━━━━━━━━━━━━━━━━━━━━━━━\u001b[0m \u001b[32m519.1/519.1 kB\u001b[0m \u001b[31m39.4 MB/s\u001b[0m eta \u001b[36m0:00:00\u001b[0m\n",
            "\u001b[2K     \u001b[90m━━━━━━━━━━━━━━━━━━━━━━━━━━━━━━━━━━━━━━━━\u001b[0m \u001b[32m1.7/1.7 MB\u001b[0m \u001b[31m58.9 MB/s\u001b[0m eta \u001b[36m0:00:00\u001b[0m\n",
            "\u001b[2K     \u001b[90m━━━━━━━━━━━━━━━━━━━━━━━━━━━━━━━━━━━━━━━━\u001b[0m \u001b[32m2.1/2.1 MB\u001b[0m \u001b[31m71.5 MB/s\u001b[0m eta \u001b[36m0:00:00\u001b[0m\n",
            "\u001b[2K     \u001b[90m━━━━━━━━━━━━━━━━━━━━━━━━━━━━━━━━━━━━━━\u001b[0m \u001b[32m268.8/268.8 kB\u001b[0m \u001b[31m28.9 MB/s\u001b[0m eta \u001b[36m0:00:00\u001b[0m\n",
            "\u001b[2K     \u001b[90m━━━━━━━━━━━━━━━━━━━━━━━━━━━━━━━━━━━━━━━━\u001b[0m \u001b[32m7.8/7.8 MB\u001b[0m \u001b[31m100.1 MB/s\u001b[0m eta \u001b[36m0:00:00\u001b[0m\n",
            "\u001b[2K     \u001b[90m━━━━━━━━━━━━━━━━━━━━━━━━━━━━━━━━━━━━━━━━\u001b[0m \u001b[32m1.3/1.3 MB\u001b[0m \u001b[31m69.9 MB/s\u001b[0m eta \u001b[36m0:00:00\u001b[0m\n",
            "\u001b[2K     \u001b[90m━━━━━━━━━━━━━━━━━━━━━━━━━━━━━━━━━━━━━━\u001b[0m \u001b[32m115.3/115.3 kB\u001b[0m \u001b[31m14.7 MB/s\u001b[0m eta \u001b[36m0:00:00\u001b[0m\n",
            "\u001b[2K     \u001b[90m━━━━━━━━━━━━━━━━━━━━━━━━━━━━━━━━━━━━━━\u001b[0m \u001b[32m194.1/194.1 kB\u001b[0m \u001b[31m22.5 MB/s\u001b[0m eta \u001b[36m0:00:00\u001b[0m\n",
            "\u001b[2K     \u001b[90m━━━━━━━━━━━━━━━━━━━━━━━━━━━━━━━━━━━━━━\u001b[0m \u001b[32m134.8/134.8 kB\u001b[0m \u001b[31m17.0 MB/s\u001b[0m eta \u001b[36m0:00:00\u001b[0m\n",
            "\u001b[2K     \u001b[90m━━━━━━━━━━━━━━━━━━━━━━━━━━━━━━━━━━━━━━\u001b[0m \u001b[32m188.5/188.5 kB\u001b[0m \u001b[31m22.4 MB/s\u001b[0m eta \u001b[36m0:00:00\u001b[0m\n",
            "\u001b[2K     \u001b[90m━━━━━━━━━━━━━━━━━━━━━━━━━━━━━━━━━━━━━━\u001b[0m \u001b[32m215.6/215.6 kB\u001b[0m \u001b[31m25.5 MB/s\u001b[0m eta \u001b[36m0:00:00\u001b[0m\n",
            "\u001b[?25h  Preparing metadata (setup.py) ... \u001b[?25l\u001b[?25hdone\n",
            "\u001b[2K     \u001b[90m━━━━━━━━━━━━━━━━━━━━━━━━━━━━━━━━━━━━━━━━\u001b[0m \u001b[32m62.7/62.7 kB\u001b[0m \u001b[31m7.7 MB/s\u001b[0m eta \u001b[36m0:00:00\u001b[0m\n",
            "\u001b[?25h  Building wheel for pathtools (setup.py) ... \u001b[?25l\u001b[?25hdone\n"
          ]
        }
      ]
    },
    {
      "cell_type": "markdown",
      "source": [
        "# Get Data"
      ],
      "metadata": {
        "id": "PjAYWqa4t3O7"
      }
    },
    {
      "cell_type": "code",
      "source": [
        "import requests\n",
        "import re\n",
        "from bs4 import BeautifulSoup\n",
        "from typing import Union\n",
        "import json\n",
        "import os\n",
        "import logging\n",
        "\n",
        "\n",
        "def get_meditations():\n",
        "    \"\"\"\n",
        "    Imports the meditations by Marcus Aurelius.\n",
        "    \"\"\"\n",
        "    # import Meditations by Marcus Aurelius\n",
        "    response = requests.get('http://classics.mit.edu/Antoninus/meditations.mb.txt')\n",
        "    data = response.text\n",
        "    del response\n",
        "\n",
        "    # remove everything before and including \"Translated by George Long\"\n",
        "    data = data.split('Translated by George Long')[1]\n",
        "\n",
        "    # remove \"----\" lines\n",
        "    data = re.sub(r'([-])\\1+', '', data)\n",
        "\n",
        "    # remove \"BOOK ...\" lines, for this we use regular expressions\n",
        "    data = re.sub('BOOK [A-Z]+\\n', '', data)\n",
        "\n",
        "    # remove \"THE END\" and all that follows it\n",
        "    data = data.split(\"THE END\")[0]\n",
        "\n",
        "    # splitting by newline characters\n",
        "    data = data.split('\\n\\n')\n",
        "\n",
        "    # remove empty samples\n",
        "    data = [x for x in data if x.replace('\\s+', '') != '']\n",
        "\n",
        "    # remove final '\\n' characters\n",
        "    data = [x.replace('\\n', ' ') for x in data]\n",
        "\n",
        "    print(f\"We have {len(data)} stoic lessons from Marcus Aurelius\")\n",
        "\n",
        "    # strip any other whitespace and return\n",
        "    data = [x.strip() for x in data]\n",
        "    return data\n",
        "\n",
        "\n",
        "def get_letters():\n",
        "    \"\"\"\n",
        "    Imports 'Epistulae Morales Ad Lucilium' by Seneca\n",
        "    \"\"\"\n",
        "\n",
        "    # import page containing links to all of Seneca's letters\n",
        "    # get web address\n",
        "    src = \"https://en.wikisource.org/wiki/Moral_letters_to_Lucilius\"\n",
        "\n",
        "    html = requests.get(src).text  # pull html as text\n",
        "    soup = BeautifulSoup(html, \"html.parser\")  # parse into BeautifulSoup object\n",
        "\n",
        "    # create function to pull letter from webpage (pulls text within <p> elements\n",
        "    def pull_letter(http):\n",
        "        print(f\"Pulling {http.split('/')[-1:][0]}\")\n",
        "        # get html from webpage given by 'http'\n",
        "        html = requests.get(http).text\n",
        "        # parse into a beautiful soup object\n",
        "        soup = BeautifulSoup(html, \"html.parser\")\n",
        "\n",
        "        # build text contents within all p elements\n",
        "        txt = '\\n'.join([x.text for x in soup.find_all('p')])\n",
        "        # replace extended whitespace with single space\n",
        "        txt = txt.replace('  ', ' ')\n",
        "        # replace webpage references ('[1]', '[2]', etc)\n",
        "        txt = re.sub('\\[[0-9]+\\]', '', txt)\n",
        "        # replace all number bullet points that Seneca uses ('1.', '2.', etc)\n",
        "        txt = re.sub('[0-9]+. ', '', txt)\n",
        "        # split by double newlines\n",
        "        lines = txt.split('\\n\\n')\n",
        "        # strip and remove short lines\n",
        "        lines = [x.strip() for x in lines if len(x.strip()) > 40]\n",
        "        return lines\n",
        "\n",
        "    # compile RegEx for finding 'Letter 12', 'Letter 104' etc\n",
        "    letters_regex = re.compile(\"^Letter\\s+[0-9]{1,3}$\")\n",
        "    # get all links\n",
        "    links = soup.find_all('a')\n",
        "    # initalize data\n",
        "    letters = []\n",
        "    # loop through all letter pages\n",
        "    for link in links:\n",
        "        # confirm we want this data\n",
        "        if len(link.contents) > 0 and letters_regex.match(str(link.contents[0])):\n",
        "            title = str(link.contents[0])\n",
        "            href = link.get('href')\n",
        "            # get text content from letter\n",
        "            texts = pull_letter(f\"https://en.wikisource.org{href}\")\n",
        "            # now we loop through and append the new texts\n",
        "            for text in texts:\n",
        "                letters.append({'title': title, 'href': href, 'text': text})\n",
        "    return letters\n",
        "\n",
        "\n",
        "meditations = get_meditations()\n",
        "# letters = get_letters()"
      ],
      "metadata": {
        "id": "liEq6GviBznn",
        "outputId": "3a2d300e-d480-483d-b32c-49529bf68f70",
        "colab": {
          "base_uri": "https://localhost:8080/"
        }
      },
      "execution_count": null,
      "outputs": [
        {
          "output_type": "stream",
          "name": "stdout",
          "text": [
            "We have 507 stoic lessons from Marcus Aurelius\n"
          ]
        }
      ]
    },
    {
      "cell_type": "markdown",
      "source": [
        "#Tokenizer logic"
      ],
      "metadata": {
        "id": "LdSu1U9TTQhP"
      }
    },
    {
      "cell_type": "code",
      "source": [
        "import nltk\n",
        "nltk.download('punkt')\n",
        "\n",
        "text = \" \".join(meditations)\n",
        "words = nltk.word_tokenize(text)\n",
        "words.append(\" \")\n",
        "\n",
        "print(f\"Length of words (characters): {len(words)}\")"
      ],
      "metadata": {
        "id": "eskEU2XBw9mk",
        "outputId": "4b2127bb-46f0-41ab-97bd-d2ed4ee06d9f",
        "colab": {
          "base_uri": "https://localhost:8080/"
        }
      },
      "execution_count": null,
      "outputs": [
        {
          "output_type": "stream",
          "name": "stderr",
          "text": [
            "[nltk_data] Downloading package punkt to /root/nltk_data...\n",
            "[nltk_data]   Unzipping tokenizers/punkt.zip.\n"
          ]
        },
        {
          "output_type": "stream",
          "name": "stdout",
          "text": [
            "Length of words (characters): 50308\n"
          ]
        }
      ]
    },
    {
      "cell_type": "code",
      "source": [
        "# Let's look at the first 1000 characters\n",
        "print(words[:100])"
      ],
      "metadata": {
        "id": "OGUPj7hmw_We",
        "outputId": "dc77cb20-493b-4b79-b8b5-1b9547273a61",
        "colab": {
          "base_uri": "https://localhost:8080/"
        }
      },
      "execution_count": null,
      "outputs": [
        {
          "output_type": "stream",
          "name": "stdout",
          "text": [
            "['From', 'my', 'grandfather', 'Verus', 'I', 'learned', 'good', 'morals', 'and', 'the', 'government', 'of', 'my', 'temper', '.', 'From', 'the', 'reputation', 'and', 'remembrance', 'of', 'my', 'father', ',', 'modesty', 'and', 'a', 'manly', 'character', '.', 'From', 'my', 'mother', ',', 'piety', 'and', 'beneficence', ',', 'and', 'abstinence', ',', 'not', 'only', 'from', 'evil', 'deeds', ',', 'but', 'even', 'from', 'evil', 'thoughts', ';', 'and', 'further', ',', 'simplicity', 'in', 'my', 'way', 'of', 'living', ',', 'far', 'removed', 'from', 'the', 'habits', 'of', 'the', 'rich', '.', 'From', 'my', 'great-grandfather', ',', 'not', 'to', 'have', 'frequented', 'public', 'schools', ',', 'and', 'to', 'have', 'had', 'good', 'teachers', 'at', 'home', ',', 'and', 'to', 'know', 'that', 'on', 'such', 'things', 'a']\n"
          ]
        }
      ]
    },
    {
      "cell_type": "code",
      "source": [
        "# Get all the unique words in corpus\n",
        "set_words = sorted(list(set(words)))\n",
        "vocab_size = len(set_words)\n",
        "print(\"|\".join(set_words))\n",
        "print(vocab_size)"
      ],
      "metadata": {
        "id": "OfhIAEEixBdB",
        "outputId": "3214572a-c8f8-4ada-ad06-18977581deac",
        "colab": {
          "base_uri": "https://localhost:8080/"
        }
      },
      "execution_count": null,
      "outputs": [
        {
          "output_type": "stream",
          "name": "stdout",
          "text": [
            " |!|'|''|'s|'scape|(|)|,|-|.|...|:|;|?|A|About|Above|Accordingly|Accustom|Acquire|Adapt|Add|Adorn|Aesculapius|After|Again|Agathon|Agrippa|Alciphron|Alexander|All|Altogether|Always|Am|Among|An|And|Another|Antisthenes|Antoninus|Any|Apollo|Apollonius|Apply|Archimedes|Are|Areius|Art|As|Asia|At|Athenians|Athenodotus|Athens|Athos|Attend|Augustus|Avoid|Bacchius|Back|Baiae|Be|Because|Begin|Benedicta|Besides|Body|Book|Both|Bread|Brutus|But|By|Cadicianus|Caesar|Caeso|Caius|Camillus|Capreae|Carnuntum|Carry|Cast|Cato|Catullinus|Catulus|Cecrops|Celer|Certainly|Chaldaei|Charax|Chaurias|Christians|Chrysippus|Circus|Cithaeron|Clotho|Come|Confine|Conformably|Consequently|Consider|Constantly|Contemplate|Cosmos|Crates|Crito|Croesus|Cynic|Dear|Death|Demetrius|Democritus|Dialectic|Different|Diogenes|Diognetus|Dion|Diotimus|Direct|Divide|Do|Does|Domitius|Dost|Draw|Dwelling|Dye|Eighth|Either|Empedocles|Enough|Enter|Ephesians|Epictetus|Epicurus|Epitynchanus|Equanimity|Ethic|Eudaemon|Eudaemonia|Eudoxus|Euphrates|Europe|Eutyches|Eutychion|Even|Every|Everything|Everywhere|Examine|Extensions|Fabius|Falernian|Fates|Faustina|Fifth|Fifthly|Finally|Fire|First|Follow|For|Fourth|Fourthly|Frequently|From|Fronto|Fruit-bearer|Further|Gaius|Generally|Give|Go|God|Granua|Grecian|Hadrian|Happy|Has|Hast|Hasten|Have|He|Helice|Hellenes|Helvidius|Heraclitus|Herculaneum|Hindrance|Hipparchus|Hippocrates|His|How|However|Hymen|I|IV|If|Imagine|Imitate|In|Indeed|Inquire|Is|It|Judge|Julianus|Just|Keep|Labour|Lacedaemonians|Lamiae|Lanuvium|Law|Leaves|Leon|Leonnatus|Lepidus|Let|Life|Like|Live|Look|Lorium|Loss|Love|Lucilla|Lucius|Lupus|Macedonian|Maecenas|Magnanimity|Make|Many|Marcianus|Maximus|Me|Men|Menippus|Mimi|Monimus|Most|Motions|Much|Muses|Must|Nature|Near|Neither|Nero|Never|Ninth|No|None|Nor|Not|Nothing|Now|Nowhere|O|Observe|Occupy|Of|Often|Olympus|On|One|Only|Or|Origanion|Pain|Panthea|Parmularius|Pass|Patricians|Penetrate|Perceive|Perdiccas|Pergamus|Persevere|Phalaris|Phalerum|Philip|Philistion|Phocion|Phoebus|Physic|Place|Plato|Platonic|Platonist|Pleasure|Pompeii|Pompeius|Practise|Prescribed|Providence|Pythagoras|Pythagoreans|Quadi|Quarrels|Rain|Rational|Reason|Recall|Receive|Remember|Repentance|Republic|Retire|Return|Reverence|Rightly|Roman|Romans|Rome|Rostra|Rufus|Rusticus|Salamis|Sarmatians|Satyron|Say|Scipio|Scutarius|Second|Secunda|See|Set|Seventh|Severally|Severus|Sextus|Shall|She|Short|Short-lived|Show|Silvanus|Simple|Since|Sinuessa|Sixth|Smoke|So|Socrates|Socratic|Some|Something|Soon|Sooner|Souls|Sound|Sound.-|Speak|Stertinius|Stoics|Stop|Strive|Such|Suppose|Take|Tandasis|Teach|Telauges|Termination|That|The|Their|Then|Theodotus|Theophrastus|There|Therefore|These|They|Things|Think|Third|This|Those|Thou|Though|Thrasea|Through|Throw|Throwing|Thus|Thy|Tiberius|Time|To|To-day|To-morrow|Towards|Trajan|Tropaeophorus|Try|Turn|Turning|Tusculum|Understand|Unhappy|Universe|Up|Use|Velia|Velius|Verus|Vespasian|Volesus|Was|Water|We|Well|What|Whatever|When|Where|Wherefore|Whether|Which|While|Who|Why|Will|Willingly|Wilt|Wipe|With|Within|Wouldst|Xanthippe|Xenocrates|Xenophon|Yes|Yes.-|Yet|Zeus|[|]|``|a|aberrations|abide|abides|abiding|ability|abject|able|about|above|abroad|abscess|absolutely|abstain|abstinence|abstractive|absurd|abundance|abundant|abundantly|abuse|abused|abyss|accept|acceptance|accepting|accepts|accident|accidents|accommodate|accommodating|accompany|accomplish|accomplished|accomplishing|accomplishment|accordance|according|accordingly|account|accretion|accuse|accustom|accustomed|acknowledged|acquainted|acquiesce|acquiescing|acquire|act|acted|acting|action|actions|active|activities|activity|actor|actors|acts|acts-|acute|adapt|adapted|adapts|add|added|addest|adds|adjacent|administered|administers|administration|administrator|admire|admired|admission|admit|admixture|admonish|admonishest|admonitions|adorn|advancing|advantage|advantageous|advisers|aerial|aether|affairs|affect|affectation|affected|affected-|affection|affectionate|affectionately|affects|affirm|affrighted|afraid|after|after-fame|after-products|aftertimes|afterwards|again|again-|against|age|ages|agitations|ago|agree|agreeable|agreement|agricultural|aid|aided|aids|aim|aims|air|airs|airy|akin|aktines|alarm|alienated|alike|all|all.-|alleging|allotted|allow|allowed|allowing|allows|almost|alone|along|already|also|also.-|altar|alternative|altogether|always|am|amatory|amazed|amazement|amidst|among|amount|amphitheatre|ample|an|analyses|ancestors|ancient|and|anger|angry|animal|animals|animate|annihilation|another|answer|antagonists|antidote|antiquated|ants|any|anybody|anything|anywhere|apart|ape|apish|apo|apparent|appear|appearance|appearances|appearest|appears|appetite|appetites|applaud|applause|applicable|application|applications|applied|applied-|applies|appliest|apply|appointed|apportioned|apportionment|apprehension|approach|approbation|appropriately|appropriates|approve|apt|aptly|architect|are|are-|arguments|arises|arising|arm-pits|armies|armistices|armpits|around|arranged|arrangement|arrest|arrive|arrogance|arrogant|arrow|art|arteries|artifice|arts|as|ascends|ascent|ascertain|ash|ashamed|ashes|aside|ask|asked|asleep|assault|assemblies|assembling|assembly|assent|assented|assents|assign|assigned|assigns|associated|associates|assume|assumed|assured|astonishment|astray|astrologers|asunder|at|ate|atmosphere|atoms|attach|attached|attained|attainest|attaining|attainment|attempt|attempting|attend|attended|attending|attends|attention|attitude|attract|attractive|aught|avenging|aversion|aversions|avoid|avoidance|avoidances|avoidest|avoiding|avoids|away|away.-|axe|back|bad|badness|bag|bait|baked|baker|ball|barbarians|barbarous|bare|bared|barely|base|baseness|bast|bath|bathing|battle|battlements|bay|be|be-|bear|beard|bearest|bearing|bears|beast|beasts|beautiful|beauty|because|become|becomes|becoming|bed|bed-clothes|bee|been|bees|befall|befits|before|beget|begin|beginning|begot|begun|behalf|behave|behaved|behaving|behaviour|behind|being|beings|belief|believe|believed|belong|belongs|beloved|below|bending|beneath|beneficence|benefit|benevolence|benevolent|benevolently|besides|best|bestial|bestow|bestowing|betake|betray|better|better.-|between|beware|beyond|bid|bile|bird|birds|birth|births|bit|bites|biting|bits|bitten|bitter|bitter.-|black|blame|blameable|blamed|blames|blamest|blaming|blazing|bless|blessing|blind|blood|bloodspitting|blue|blush|board|boars|bodies|bodily|body|body-|bond|bonds|bone|bones|book|books|bore|born|borne|both|both-|bound|boundless|bounds|boys|branch|bread|break|breaks|breast|breath|breathe|breathed|breathing|breed|breeze|brethren|briars|bridle|brief|briefest|brightness|bring|bringing|brings|broken|brother|brought|bubble|bugbears|building|buildings|bull|bunch|burden-carrying|buried|buries|burnt|burst|burying|busies|business|busy|busy-body|but|buying|by|bystander|call|called|calling|callosities|calm|calmly|calms|calumnies|calumny|came|can|canst|capacity|care|cared|careful|carefully|careless|carelessness|cares|carest|carpenter|carried|carries|carry|carrying|case|cases|cast|casting|casts|catorthoseis|cattle|caught|causal|cause|caused|causes|caution|cavalry|cease|ceased|ceases|ceasing|celebrated|certain|certainly|cessation|chale|chance|change|changeable|changeableness|changed|changes|changing|channel|chaos|character|characteristic|charged|chaste|chastened|cheats|check|checks|cheer|cheerful|cheerfully|cheerfulness|cherish|chide|chidest|chief|chiefly|child|child.-|childish|children|choice|choose|chooses|choosest|circle|circuitous|circumfluent|circumscribe|circumscribed|circumscribest|circumscribing|circumstance|circumstances|citadel|cities|citizen|city|civil|claims|clapping|claws|clay|cleanse|clear|clearing|clearly|climate|cling|clinging|cloak|clod|close|closely|clothes|clouds|co-operate|co-operates|co-operation|co-operators|co-ordinated|coast|cohesion|coincidence|cold|collected|collection|collision|colour|combination|combine|come|comedy|comeliness|comes|comfort|comic|coming|commander|commands|commit|committed|commodity|common|communicated|communion|communities|community|compact|company|compared|comparing|comparison|compel|compelled|competition|complain|complained|complaining|complaint|complete|completed|completely|compliant|component|compose|composed|composition|composure|compound|compounded|comprehended|comprehending|comprehends|comprehension|comprehensive|compulsion|compulsions|compute|concealed|concealment|conceit|conceive|conceived|conception|concern|concert|conclude|conclusion|concord|concourse|concubine|concurrence|condemned|condemns|condition|conditionally|conditions|conduce|conduces|conducive|conduct|confer|conferred|conferring|confess|confessedly|confessing|confidence|confident|confines|confirmation|conflagration|conformable|conformably|conformity|confusion|congruent|conjecture|conjoined|conjunction|connection|connexion|conscience|conscious|consequence|consequent|consequently|conservation|consider|considerate|considerately|considerately.-|consideration|considerations|considered|considering|considers|consist|consistency|consistent|consistently|consists|conspicuous|conspiration|constancy|constant|constantly|constituted|constitution|constitutions|construction|consumed|consumes|contact|contain|contained|contains|contemplate|contemplated|contemplating|contemplation|contemplative|contempt|contemptible|contemptuous|content|contented|contentedly|contention|contentment|contexture|continual|continually|continuance|continue|continued|continues|continuest|continuing|continuity|continuous|continuously|contracted|contracting|contraction|contraries|contrary|contriving|conversation|converts|convince|convinced|cooperating|corn|corners|corporeal|corpse|correct|correctest|correcting|corrects|correspond|corresponds|corrupt|corrupted|corruption|could|counsulship|countenance|counterfeit|countless|country|courage|courageously|course|courses|court|courts|cover|covered|covering|coverings|cowardice|craft-|credit|crooked|crouch|crowd|cruel|crush|crushed|cry|cucumber|cultivating|cunning|cure|cured|curing|curious|curse|curses|curtains|cut|cuts|cuttest|cutting|cuttings|cylinder|daemon|daemons|daily|damage|dance|dancer|dancing|danger|darkened|darkness|dashing|daughter|day|days|dead|deal|dealing|dealt|dear|death|deaths|debtor|decay|decays|deceitful|deceived|deceives|deceiving|decency|deception|decomposition|deed|deeds|deep|deeper|defect|defectively|deferred|deficient|defile|defiled|definite|definition|deformed|degree|deity|dejected|delay|delays|deliberately|deliberation|delight|delighted|delights|delivered|delivering|demanded|demands|depart|departed|departure|depend|depended|dependent|depends|deposits|depraved|depressed|deprive|deprived|deprives|derived|descendants|description|desert|deserters|deserting|deserts|deserving|design|designed|desire|desired|desires|desirest|desiring|despaired|despairest|despise|despised|destined|destiny|destroy|destroyed|destroying|destruction|detach|detached|detaches|detains|detected|determine|determined|deviate|deviates|deviating|deviation|devoid|dexterously|dialectician|dialogues|did|didst|die|died|dies|diet|diety|difference|differences|different|differing|differs|difficult|diffused|diffusion|dig|dignity|direct|directed|direction|directions|directly|director|directs|dirt|disagreeable|disappear|disappeared|disappears|discharged|disciple|discipline|disciplined|discontent|discontented|discordance|discouraged|discourse|discourses|discoursing|discover|discovered|discovering|discovery|discriminating|discursive|disease|diseased|diseases|disgraceful|disguise|disgusted|disgusting-|dishonour|disjointed|dismiss|dismissed|disobedient|disorder|disperse|dispersed|dispersion|display|displeased|disposed|disposition|dispute|disputed|disputing|disregard|dissatisfaction|dissatisfied|dissolution|dissolve|dissolved|distinctly|distinguish|distinguished|distinguishing|distract|distracting|distraction|distribute|distributed|distribution|disturb|disturbed|disturbs|diverge|divert|diverted|divided|dividing|divine|diviner|divinity|division|do|doctor|doer|does|doest|dog|dogs|doing|domestic|domesticated|donations|done|done.-|doors|dost|dotage|double|doubled|doubts|down|downward|downwards|dragged|dramas|dramatic|dramaturgy|draw|drawn|dreadful|dream|dreams|drenching|dress|dressed|dresses|drew|dried|drink|drinking|drinks|drive|drivellers|driver|drives|driving|drop|drowsiness|drowsy|dry|due|dull|dulness|duplicity|duration|during|dust|duties|dutiful|duty|duty.-|dwell|dwelling|dye|dyed|dying|each|eager|eagerly|ear|early|ears|earth|earthly|earthy|ease|easily|easing|easy|eat|eatables|eaten|eating|echo|economy|education|effect|effected|effects|efficient|efflux|effort|efforts|effused|effusion|egg|either|ekteinesthai|element|elemental|elements|elevated|elevation|eloquence|else|elsewhere|emanation|embarked|embrace|embraces|embroidered|emerald|emotion|emotions|empire|employ|employed|employing|employments|employs|emptiness|empty|emulation|enable|enables|end|ended|ending|endless|ends|endurable|endurance|endure|endured|endures|enduring|enemy|engaged|enjoy|enjoy-|enjoyed|enjoyment|enjoyments|enjoys-|enlighten|enmities|enmity|enough|enter|entire|entirely|entirety|entreat|enumeration|envelope|envelopment|envelops|envious|envy|ephemeral|epochs|equable|equal|equally|equanimity|erect|err|erred|error|errors|errs|escape|especially|established|esteemed|eternal|eternity|evacuations|even|evening|evenness|event|events|ever|everlasting|every|everybody|everything|everywhere|evidence|evil|evil.-|evils|exact|exactly|exalted|examination|examine|examined|examiner|examines|examinest|example|example-|examples|excellence|excellent|except|excess|excessive|excite|excited|excitement|excuse|excused|excuses|excusing|exempt|exercise|exercised|exercises|exert|exerted|exertion|exhalation|exhaust|exhibit|exhibited|exhibition|exist|existed|existence|existing|exists|expanded|expect|expecting|expects|expenditure|experience|expert|exposed|expounding|express|expresses|expressing|expression|extended|extends|extension|external|externally|externals|extinction|extinguish|extinguished|extravagant|extremest|eye|eyebrows|eyelids|eyes|fables|face|facility|fact|faculty|fail|failed|failure|fair|faithless|fall|fallen|fallest|falling|falls|false|falsehood|falsely|fame|famed|familiar|families|family|fan|far|fashion|fashions|fast|fasten|fastened|fatal|fate|father|fatherly|fault|fault-finding|faults|favour|favours|fear|fearest|fearing|fears|feasting|feasts|feeble|feebleness|feed|feel|feeling|feelings|feet|felicity|fell|fellow|fellow-citizens|fellowship|felt|fever|few|fidelity|fields|fiery|fig|fig-tree|fig-trees|fight|fighter|fighters|fighting|fights|figs|figure|filled|filling|filth|filthy|finally|find|findest|finding|finds|fine|finish|finished|finishing|fire|firm|firmly|firmness|first|fish|fish-ponds|fit|fitly|fitness|fits|fitted|fix|fixed|fixes|flame|flatter|flattered|flattering|flattery|fled|flesh|flies|flippant|flock|flocks|flow|flowed|flower|flowing|flows|flux|fly|flying|foam|fold|folks|follow|following|follows|fond|food|fool|foolish|foolishly|fools|foot|for|force|forehead|foreign|foresee|forest|forethought|foretold|forget|forgetfulness|forgets|forgive|forgotten|form|formal|formative|formed|former|formerly|forming|forms|forth|forthwith|fortitude|fortuitous|fortunate|fortune|fortunes|forty|foster-child|foul|found|foundation|founded|fountain|four|fourth|framed|frankincense|frankness|fraudulent|free|freedom|freely|frees|frequent|frequented|frequently|fresh|fret|friend|friendly|friends|friendship|friendships|frighten|frightened|from|fruit|fruitful|fruits|full|fundamental|furious|furnished|further|furtherance|fury|fused|future|gain|gained|game|games|gape|gaping|gardeners|gardens|garments|gave|general|generally|generals|generate|generates|generating|generation|generations|generic|generous|gentle|gentleness|gently|genuine|get|gets|giddiness|gift|gifts|gimlet|give|given|gives|giving|gladiator|gladiators|gladly|glance|glide|glory|go|god|gods|goes|goest|going|gold|gone|good|gore|got|governed|governing|government|governor|governs|gradually|grain|grains|grammarian|grand|grandfather|grandfathers|grape|grapes|grave|gravity|great|great-grandfather|greater|greatest|greatly|greedy|green|gregarious|grew|grey|grief|grieved|grievous|grind|groan|groom|gross|ground|ground-|grow|grown|grows|grumbling|guard|guardian|guards|guide|guides|guilty|gymnasium|gymnastic|habit|habits|habitual|had|hadst|hair|hairs|half|half-devoured|hand|handicraftsmen|handle|hands|hangs|happen|happened|happenest|happening|happens|happens-|happiest|happily|happiness|happy|hard|hardly|hardship|hare|harm|harmed|harmful|harmonious|harmoniously|harmonizes|harmony|harms|harsh|harvest|has|hast|haste|hastily|hasty|hate|hates|hath|hatred|have|have.-|having|hazard|he|head|headache|health|healthy|heaped|heaping|heaps|hear|heard|hearer|hearing|heart|heat|heaven|heavenly|heavens|held|helmsman|help|helped|helps|hence|her|herd|herds|here|herein|heroes|heroic|herself|hidden|hide|hiding-place|high|higher|highest|highly|him|himself|hinder|hindered|hindered.-|hinders|hindrance|his|histories|history|hitherto|ho|hold|holdest|holding|holds|holy|home|home-bred|honest|honestly|honey|honour|honourable|honoured|honouring|honours|hope|hopes|hoping|horse|horse-breaker|horse-exercise|hortatory|hostile|hot|hour|hourly|hours|house|houses|how|how.-|however|huddled|human|humbled|humorous|humour|hundred|hurried|hurry|hurrying|hurt|hypocrisy|hypocrite|hypothesis|idea|idle|idly|if|ignited|ignition|ignominy|ignorance|ignorant|ignorantly|ill|ill-minded|ill-spoken|illimitable|illness|illuminated|illumination|images|imagination|imaginations|imagine|imagining|imitate|imitation|immediately|immensity|immortal|immortality|immovable|impatient|impede|impeded|impediment|impediments|imperceptibly|imperious|impetuous|impiety|impiously|implacable|implicated|implicates|implication|imposed|impossibilities|impossibility|impossible|impression|impressions|improved|improvement|impulse|impure|impurities|impurity|in|inanimate|inasmuch|incantations|incapacity|incident|inclination|incline|inclined|inclosed|include|incomplete|inconsiderate|inconsiderately|inconsistent|increase|incredible|indebted|indeed|independent|indifference|indifferent|indiscriminately|individual|individually|indivisible|indolence|induced|indulgence|indulgent|ineffectual|inexpugnable|infancy|infantry|infants|inferior|infinite|infinitely|infinity|inflated|inflicted|ingrafted|inhuman|injure|injured|injuring|injurious|injustice|innumerable|inquire|inquiry|inscribed|inside|insight|insincere|insincerely|insolence|inspirations|inspired|instance|instead|institutions|instruct|instructed|instruction|instructions|instrument|instruments|insult|insuperable|integrity|intellectual|intelligence|intelligent|intemperance|intemperate|intended|intendest|intent|intention|intentionally|intercepts|intercourse|interest|interests|interior|internal|internally|interval|interweaving|intimate|intimately|intimates|into|intolerable|intreat|introduce|introduced|intrust|intrusted|investigation|invincible|involuntarily|involution|involve|inward|inwards|iron|irrational|irrationally|irregularity|irritable|irritated|is|islands|it|it-|it.-|its|itself|ivory|jaundiced|jaws|jealous|joining|journey|joy|joyous|judge|judged|judgement|judgements|judges|jugglers|juice|just|justice|justly|keep|keeping|keeps|kept|kicks|kill|killed|killing|kin|kind|kindled|kindly|kindness|kinds|kingly|kinsfolk|kinship|kinsman|kinsmen|kisses|knave|kneaded|knew|knife|knives|know|knowest|knowing|knowledge|known|knows|laborious|laboriously|labour|labourers|labourings|labours|laid|lame|lament|lamentations|laments|lamp|land|larger|last|last.-|lastly|lasts|late|laudable|laugh|laughed|laughing|law|lay|laying|lays|lead|leader|leading|leads|leaf|learn|learned|learning|least|leave|leaves|lecturing|led|left|legislating|leisure|length|less|lest|let|lets|letter|letters|letting|liar|liars|liberal|liberality|liberally|lice|lie|lies|life|light|lighted|like|likely|limit|limits|limpid|line|lion|liquid|listen|listened|listens|litrae|little|live|lived|liver|lives|livest|living|lodging|long|longer|longest|longing|look|looked|lookest|looking|looks|loosed|lose|loses|losest|losing|loss|lost|lot|love|loved|loveliness|lover|lovers|loves|lovest|loving|lower|luxury|lying|lyre|mad|made|madman|madness|magic|magisterial|magnanimity|magnanimous|main|maintain|maintained|maintainest|maintaining|maintains|majority|make|makes|makest|making|malice|malignant|man|manage|manager|manhood|manifest|manifestly|mankind|mankind-|manliness|manly|manner|manners|mansions|many|marble|mariner|mark|markets|marriages|marrying|mass|master|mastered|masters|mastery|material|matter|matters|maturity|may|mayest|me|me.-|mean|mean-spirited-|meaner|meaning|means|measure|meat|meddle|medicine|meet|meetest|meetings|meets|melody|melos|melted|member|members|memoirs|memory|men|men.-|mentioned|mere|merit|merits|meros|method|methodical|methodically|mice|middle|midst|might|mightest|mild|mildness|milk|mill|mimic|mind|mind.-|minds|mingle|mingled|mingles|minister|miracle-workers|miserable|misfortune|misfortunes|misled|misses|mistake|mistaken|mistaking|mixed|mixture|mockers|modest|modesty|moment|money|moral|morals|more|morning|morrow|mortal|most|mother|motion|motive|moulds|mount|mountain|mountains|mouse|mouth|move|moved|movement|movements|moves|moving|much|mucus|mud|multitude|mummy|murmur|murmuring|must|mutation|mutilated|mutilation|mutiny|mutual|my|myself|mystery|nails|naked|name|named|names|narrow|narrowness|nations|native|natural|naturally|nature|nature-|nature.-|natures|nay|near|nearer|nearest|nearly|necessary|necessity|need|needs|neglect|neglected|neglecting|negligence|neigh|neighbour|neighbours|neither|nerves|net|network|never|nevertheless|new|next|night|nine|no|noble|noblest|nobly|nobody|noise|noised|noisy|non-existence|none|nook|nor|not|nothing|nothing-|notice|notion|notions|nought|nourished|novelty|now|nowhere|nudity|number|nurse|nurture|nutrition|oath|obedience|obedient|obediently|obey|object|objected|objection|objects|obligation|oblivion|observances|observation|observe|observed|observes|observest|observing|obstacle|obstacles|obstinacy|obstinately|obtain|obtains|occasion|occasions|occupations|occupy|occur|occurs|of|off|off-|offence|offences|offend|offended|offends|offends-|offensive|offered|offers|office|often|oil|old|olden|older|olive|olives|omen|omen.-|omit|on|once|one|only|onsets|onward|open|opening|openness|operation|operations|opinion|opinions|opponent|opportunities|opportunity|oppose|opposed|opposes|opposite|or|orations|orators|order|ordered|ordering|orderly|orders|organization|organs|origin|original|originally|ornament|ostentation|ostentatious|other|others|otherwise|ought|our|ourselves|out|out-pouring|outdoor|outside|outward|over|over-curious|overcome|overfond|overlook|overlooked|overmuch|overpowered|overtaken|overtakes|overvalue|overwhelmed|owe|own|ox|pacified|paid|pain|pained|painful|pains|painters|palace|pancratiast|pancratium|pardon|parents|paroxysms|part|participate|participates|participating|particular|particularly|parting|partizan|partner|parts|party|pass|passed|passes|passing|passion|passionate|passionately|passions|passive|passivity|past|paternal|patient|patiently|patricides|pause|peculiar|peculiarly|pedant|peevish|pen|penetrate|penetrated|people|people-|perceive|perceived|perceiving|perception|perceptions|perchance|perfect|perfected|perfecting|perfection|perfectly|perforce|perform|performs|perhaps|periodic|periodical|periods|perish|perishable|perishes|permit|permitted|perpetual|perplex|perplexed|perseverance|persist|persistency|person|person.-|personal|persons|perspiration|persuade|persuaded|persuasion|persuasions|pertains|perturbation|perturbations|perturbed|pervades|perverter|pestilence|philosopher|philosophers|philosophical|philosophising|philosophy|physician|physicians|piece|pieces|piety|pig|piled|pious|piously|pitied|pity|place|placed|places|placest|plagued|plain|plainly|plainness|plains.-|plan|plank|plant|planted|plants|plaster|plausible|play|playing|plays|pleasant|pleasant.-|please|pleased|pleases|pleasing|pleasurable|pleasure|pleasures|plot|plotting|ploughed|poet|poetry|point|poison|poisonous|political|politically|polity|polluted|poor|populace|popular|portion|portions|position|possess|possessed|possesses|possession|possible|post|posterity|posthumous|potable|poured|power|powers|practically|practice|practise|practised|practises|praise|praised|praiser|praising|pray|prayed|prayer|prayers|prays|precept|precribed|predestined|predicting|preference|preferred|pregnant|prematurely|prepared|prescribed|prescribes|prescriptions|presence|present|present-|presented|presents|preserve|preserved|preserving|pretend|pretended|pretensions|prevails|prevent|prevented|price|pride|pries|priest|priests-|prime|principal|principle|principles|prior|private|privilege|prized|proceed|proceeding|proceeds|procure|produce|produced|produces|production|productive|proficiency|profit|profitable|progress|promise|promises|promontory|proof|proper|properly|properties|property|propitiated|proportion|propose|proposed|propriety|prosperity|proud|proudly|proved|provide|provided|providence|provision|prudence|prudent|public|puffed|pull|pulled|pulling|pulls|puppet|puppets|pure|purge|purified|purity|purple|purpose|purposes|pursue|pursues|pursuest|pursuing|pursuit|pursuits|put|putrefaction|puts|putting|pyramids|quails|qualities|quality|quarrel|quarrelling|question|quick|quickly|quiet|quietly|quit|quite|r|race|raiment|rain|raise|raised|ram|rambled|rancour|rapid|rapidity|rare|rather|rational|rationally|ray|rays|reach|read|readiest|readily|readiness|reading|reads|ready|real|reality|really|realms|reap|reaped|reason|reason.-|reasonable|reasoning|reasons|receive|received|receives|receiving|reception|reckoning|recognised|recollection|recompense|reconciled|recorded|recover|recovery|rectify|recur|recurring|reduced|refer|reference|referred|refers|reflect|reflectest|reflecting|reflection|reflects|refrain|refuge|refuse|refused|regard|regards|regulate|regulated|rejected|rejectest|rejoice|relate|related|relation|relations|relationship|relaxation|released|relief|relieve|relieved|religious|reluctance|remain|remainder|remainest|remaining|remains|remark|remedies|remember|remembered|rememberer|rememberest|remembering|remembers|remembrance|remind|reminded|reminding|remiss|remission|remote|remotely|removal|remove|removed|renew|renewed|renewing|renounce|renovation|rent|repel|repent|repents|report|reported|repose|reposing|representation|reproach|reproachful|reproachfully|reputation|repute|require|required|requires|requirest|requiring|reservation|reserving|resigns|resist|resisting|resolute|resolution|resolve|resolved|resolves|respect|respects|respiration|respiratory|respire|rest|restless|restore|restored|restrain|result|results|resume|retain|retire|retiring|retreat|retreats|return|returnest|returns|reverence|reverences|reversely|review|revolution|revolutions|reward|rhetoric|rich|rid|ridiculed|ridiculous|right|rightly|rights|rind|ripe|rise|rises|risest|rising|rivalry|river|road|road.-|rob|robber|robbers|robe|rocks|room|rose|rotten|rottenness|round|rouse|roused|rouses|rows|royal|rule|ruler|rules|ruling|run|runaway|runnings|sacrifice|sacrificed|sacrificing|safety|said|said.-|sailors|sake|same|sameness|sand|sands|sat|satisfaction|satisfied|saved|saving|saw|say|sayest|saying|says|scatters|schoolmaster|schools|scolding|scorched|scowling|screams|sculptors|scurrilous|sea|sea-shore|sea-shores|season|season.-|seasonable|seasons|seats|second|secretly|secrets|secure|secures|security|security.-|sediments|see|seed|seeds|seeing|seek|seeking|seeks|seem|seemed|seems|seen|seers|sees|seest|seldom|select|selections|self|self-collected|self-government|self-love|self-reproof|self-respect|self-restraint|self-satisfaction|seminal|senate|send|sending|sensation|sensations|sense|senses|sensible|sensual|sensuous|sent|separate|separated|separately|separates|separating|separation|sequence|serenity|series|serious|seriously|servants|serves|service|servile|set|sets|several|severally|severally-|shade|shall|shalt|shame|shameful|shameless|share|sharp|sharp-witted|sharpness|shavings|she|sheep|shell-fish|shepherd|shine|ship|shoemaker|shoes|shone|shore|short|short-lived|shorter|shortest|shortness|should|shouldst|show|showed|shower|showing|shown|shows|shrink|shrinking|shrub|shut|shuts|shuttle|sick|sickness|side|sight|signal|signified|signifies|signify|signs|silence|silver|similar|simple|simplicity|simply|since|sincerely|sincerity|single|sinks|sister|sit|skeleton|skilfully|skill|skilled|skin|skinned|slander|slave|slavery|slaves|slavish|sleep|sleeping|slow|sluggish|small|smaller|smallest|smeared|smell|smelled|smelling|smells|smile|smoke|smoky|sneer|so|so.-|sober|soberly|sobriety|social|society|soft|sojourn|soldier|solecistic|solemn|solemnities|solid|solitude|some|something|sometimes|somewhat|somewhere|son|song|soon|soonest|sophist|sophistic|sophists|sordid|sore|sort|sought|soul|souls|sound|soundest|sounds|source|sources|sowing|space|sparing|sparrows|speak|speaker|speaking|speaks|spears|special|spectacle|spectacles|spectators|speculations|speculative|speech|speedily|spend|spent|sphere|spherical|spider|spiders|spin|spinning|spirit|spirits|splendour|split|spoiled|spoke|sponge|sports|spring|sprung|spun|spurned|squared|stable|stage|stages|stand|standest|standing|stands|star|stars|state|station|statues|stay|stays|steadily|steadiness|steady|steal|stealing|step-mother|stick|still|stingy|stink|stinted|stir|stock|stomach|stone|stones|stood|stop|stopped|stoppest|storms|straight|straightway|strain|straining|strange|strange-sounding|strangely|stranger|strangers|stream|streets-|strength|strengthened|strenuous|stretched|strikes|strings|strings-|strip|strive|striven|strives|strong|stronger|stubborn|stuck|studied|studies|studying|stupid|subject|subjected|subjection|subjects|submit|submitted|subordinated|subsist|subsisting|subsists|substance|succeed|succeeded|successful|succession|successions|successor|such|such-like|sucked|sudden|suddenly|suffer|sufferest|suffering|sufferings|suffers|sufficient|suggest|suggestion|suitable|suitably|suited|suits|sum|summer|summons|sun|sunk|sup|superficial|superfluity|superfluous|superior|superiority|superstition|superstitious|supplied|supply|suppose|supposition|suppositions|supremacies|sure|surely|surface|surprise|surprised|surrounding|surrounds|survey|surveys|suspect|suspected|suspecting|suspicion|suspicious|sustain|sustained|swaggering|swallowed|swarm|swarms|swear|sweat|sweating|sweetness|sword|syllogisms|sympathetic|sympathize|sympathy|system|table|tacitly|tact|take|taken|takes|takest|taking|tale|talents|talk|tames|tarry|taste|tastes|taught|teacher|teachers|teaching|tear|tearing|tears|teeth|tell|temper|temperance|temperate|tempest|ten|tenaciously|tendency|tends|tenth|term|terminated|terminates|terminating|termination|terminations|terms|terrene|terrible|terrify|territory|testimony|texture|than|thank|thankful|thanking|that|that.-|the|thee|thee-|thee.-|their|them|them.-|themselves|then|thence|there|therefore|these|they|thine|thing|things|things-|things.-|think|thinkest|thinking|thinks|third|thirst|this|this-|this.-|thorn|those|thou|though|thought|thoughtlessly|thoughtlessness|thoughts|thousand|thousands|thread|three|thrice|throat|through|throw|throwing|thrown|throws|thus|thy|thyself|till|time|times|timid|tired|to|to-day|to-morrow|together|toil|told|tolerable|tolerance|tolerate|tolerated|toll-collector|tom|tomb|tombs|tombs-|tongues|too|took|tool|top|torches|torment|torn|torpid|torpor|torrent|total|tou|touch|touched|touches|towards|town|tracked|trafficking|tragedies|tragedy|tragic|trained|trains|tranquil|tranquil.-|tranquility|transfer|transformation|transformations|transgresses|transmit|transmitted|transmutation|transmuted|transpiration|traverses|treacherous|treachery|tread|treasure|treated|treaties|tree|trees|trepidation|trial|tricks|triest|triflers|trifling|trouble|troubled|troubles|troublesome|true|truly|trust|truth|try|trying|tumour|tune|tunic|turn|turned|turner|turning|turns|two|tyrannical|tyrant|tyrants|ught|ugly|unable|unacquainted|uncertain|unchangeable|unconditionally|unconnected|unconscious|uncontaminated|under|undergo|undergoes|understand|understanding|understood|undertake|undeviating|undisturbed|uneasiness|unexpected|unfavourable|unfitness|ungrateful|unhappiness|unhappy|unharmed|uniformity|unimpeded|uninstructed|unintelligible|unintentionally|uninterrupted|union|unite|united|unites|unity|unity-|universal|universally|universe|universe.-|unjust|unjustly|unknown|unless|unnatural|unnecessary|unnoticed|unripe|unseasonable|unseasonably|unsentient|unsettles|unskilled|unsocial|unsound|unsteady|unsuitable|until|untouched|untruly|unwashed|unwilling|unwillingly|unworthy|up|upon|upper|upward|upwards|urgent|us|us-|us.-|usage|use|used|useful|useless|uses|usest|using|usual|utility|utter|uttered|utterest|vacuum|vainglorious|vainglory|valuable|value|value.-|valued|values|valuest|valuing|vapour|vapoury|variance|varied|varieties|variety|various|vehement|veied|veil|veins|venerate|venerated|veneration|venture|versatile|verse|very|vessel|vesture|vex|vexation|vexed|vexes|vice|view|viewed|vigilance|vigorous|vigorously|vile|villa|villainy|vine|vine-planter|vines|violence|violent|violently|virility|virtue|virtues|visible|vision|visited|voice|voices|void|voluntarily|voluntary|vortex|voyage|voyagings|vulgar|wailing|wait|waitest|waiting|wakest|waking|walk|walked|walking|walls|wander|wandering|wanderings|want|wanting|wants|war|warfare|warm|warring|wars|was|wash|wast|waste|wasting|watch|watchful|water|watery|wave|waveless|waves|wax|way|way.-|ways|we|weak|weakness|weal|wealth|wearied|wearisome|weaver|web|weeping|weighest|welcome|well|well-arranged|went|were|wert|what|whatever|whatsoever|wheat|when|whence|whenever|where|wherefore|wherein|wherever|whether|which|while|whip|whirl|whirled|whirls|whisper|white|whither|who|whoever|whole|whom|whore|whose|why|wicked|wickedness|wide-spread|wife|wild|will|willed|willing|wills|wilt|wind|winter|wipe|wisdom|wise|wisely|wish|wished|wishes|wishest|wishing|with|withdraws|within|without|witnessed|wits.-|wittily|wolfish|woman|womanish|womb|women|wonder|wondered|wonderful|wondrous|wont|wood|wool|word|words|work|workest|working|workmen|works|workshop|world|worse|worship|worshipper|worst|worth|worthless|worthlessness|worthy|would|wouldst|wound|wounded|wounds|wrestler|wretch|wretched|write|writer|writers|writing|writings|written|wrong|wrong-doer|wrong-doers|wronged|wrongful|wrote|years|yesterday|yet|yield|yielding|yields|you|young|your|youth\n",
            "4292\n"
          ]
        }
      ]
    },
    {
      "cell_type": "code",
      "source": [
        "import itertools\n",
        "\n",
        "# Tokenize the input text, we use a very simple approach\n",
        "word2int = {}\n",
        "for i,wo in enumerate(set_words):\n",
        "  word2int[wo]=i\n",
        "\n",
        "int2word = {}\n",
        "for i,wo in enumerate(set_words):\n",
        "  int2word[i]=wo\n",
        "\n",
        "def encode(sent):\n",
        "  ll = [[nltk.word_tokenize(w), ' '] for w in sent.split()]\n",
        "  words = list(itertools.chain(*list(itertools.chain(*ll))))\n",
        "  return [word2int[word] for word in words]\n",
        "\n",
        "def decode(tokens):\n",
        "  return \"\".join([int2word[token] for token in tokens])\n",
        "\n",
        "print(encode(\"wasting grandfather!\"))\n",
        "print(decode(encode(\"wasting grandfather!\")))"
      ],
      "metadata": {
        "id": "WqW5xwz6xJUm",
        "outputId": "76e3cd87-99fe-4402-97b9-4846bdc3bd3e",
        "colab": {
          "base_uri": "https://localhost:8080/"
        }
      },
      "execution_count": null,
      "outputs": [
        {
          "output_type": "stream",
          "name": "stdout",
          "text": [
            "[4148, 0, 1994, 1, 0]\n",
            "wasting grandfather! \n"
          ]
        }
      ]
    },
    {
      "cell_type": "markdown",
      "source": [
        "# Training"
      ],
      "metadata": {
        "id": "v0taFnYsWy6u"
      }
    },
    {
      "cell_type": "code",
      "source": [
        "import torch\n",
        "from transformers import AutoTokenizer, AutoModelForCausalLM\n",
        "\n",
        "tokenizer = AutoTokenizer.from_pretrained(\"gpt2\")\n",
        "model = AutoModelForCausalLM.from_pretrained(\"gpt2\")\n",
        "\n",
        "\n",
        "\n",
        "def get_predictions(model,tokenizer,sentence):\n",
        "    # Encode the sentence using the tokenizer and return the model predictions.\n",
        "    inputs = tokenizer.encode(sentence, return_tensors=\"pt\")\n",
        "    with torch.no_grad():\n",
        "        outputs = model(inputs)\n",
        "        predictions = outputs[0]\n",
        "    return predictions\n",
        "\n",
        "def get_next_word_probabilities(model,tokenizer,sentence, top_k=500):\n",
        "\n",
        "    # Get the model predictions for the sentence.\n",
        "    predictions = get_predictions(model,tokenizer,sentence)\n",
        "\n",
        "    # Get the next token candidates.\n",
        "    next_token_candidates_tensor = predictions[0, -1, :]\n",
        "\n",
        "    # Get the top k next token candidates.\n",
        "    topk_candidates_indexes = torch.topk(\n",
        "        next_token_candidates_tensor, top_k).indices.tolist()\n",
        "\n",
        "    # Get the token probabilities for all candidates.\n",
        "    all_candidates_probabilities = torch.nn.functional.softmax(\n",
        "        next_token_candidates_tensor, dim=-1)\n",
        "\n",
        "    # Filter the token probabilities for the top k candidates.\n",
        "    topk_candidates_probabilities = \\\n",
        "        all_candidates_probabilities[topk_candidates_indexes].tolist()\n",
        "\n",
        "    # Decode the top k candidates back to words.\n",
        "    topk_candidates_tokens = \\\n",
        "        [tokenizer.decode([idx]).strip() for idx in topk_candidates_indexes]\n",
        "\n",
        "    # Return the top k candidates and their probabilities.\n",
        "    return list(zip(topk_candidates_tokens, topk_candidates_probabilities))\n"
      ],
      "metadata": {
        "id": "hS6ME0rETzNF"
      },
      "execution_count": null,
      "outputs": []
    },
    {
      "cell_type": "code",
      "source": [
        "tokenizer"
      ],
      "metadata": {
        "id": "SNMXN6G5XuTE",
        "outputId": "5f0dcf97-99ea-4c71-e527-06e844aedbb9",
        "colab": {
          "base_uri": "https://localhost:8080/"
        }
      },
      "execution_count": null,
      "outputs": [
        {
          "output_type": "execute_result",
          "data": {
            "text/plain": [
              "GPT2TokenizerFast(name_or_path='gpt2', vocab_size=50257, model_max_length=1024, is_fast=True, padding_side='right', truncation_side='right', special_tokens={'bos_token': '<|endoftext|>', 'eos_token': '<|endoftext|>', 'unk_token': '<|endoftext|>'}, clean_up_tokenization_spaces=True)"
            ]
          },
          "metadata": {},
          "execution_count": 37
        }
      ]
    },
    {
      "cell_type": "code",
      "source": [
        "print(\"num parameters : \",sum(t.numel() for t in model.parameters()))"
      ],
      "metadata": {
        "id": "pZ_oPgrHW-vY",
        "outputId": "e9aa1955-3b97-4d4a-9c50-d50765afff5b",
        "colab": {
          "base_uri": "https://localhost:8080/"
        }
      },
      "execution_count": null,
      "outputs": [
        {
          "output_type": "stream",
          "name": "stdout",
          "text": [
            "num parameters :  124439808\n"
          ]
        }
      ]
    },
    {
      "cell_type": "code",
      "source": [
        "sentence = \"I enjoy walking in \"\n",
        "\n",
        "# Encode the sentence using the tokenizer and return the model predictions.\n",
        "inputs = tokenizer.encode(sentence, return_tensors=\"pt\")\n",
        "\n",
        "# pass into model\n",
        "outputs = model(inputs)\n",
        "predictions = outputs[0]\n",
        "\n",
        "predictions.shape"
      ],
      "metadata": {
        "id": "s1w5cEacyipV",
        "outputId": "ce416bc9-96e0-4fa4-9cf9-e18d8e3dbc1a",
        "colab": {
          "base_uri": "https://localhost:8080/"
        }
      },
      "execution_count": null,
      "outputs": [
        {
          "output_type": "execute_result",
          "data": {
            "text/plain": [
              "torch.Size([1, 5, 50257])"
            ]
          },
          "metadata": {},
          "execution_count": 53
        }
      ]
    },
    {
      "cell_type": "code",
      "source": [
        "\n",
        "# Get the next token candidates.\n",
        "next_token_candidates_tensor = predictions[0, -1, :]\n",
        "\n",
        "# Get the top k next token candidates.\n",
        "top_k=10\n",
        "topk_candidates_indexes = torch.topk(\n",
        "    next_token_candidates_tensor, top_k).indices.tolist()\n",
        "\n",
        "# Get the token probabilities for all candidates.\n",
        "all_candidates_probabilities = torch.nn.functional.softmax(\n",
        "    next_token_candidates_tensor, dim=-1)\n",
        "\n",
        "# Filter the token probabilities for the top k candidates.\n",
        "topk_candidates_probabilities = \\\n",
        "    all_candidates_probabilities[topk_candidates_indexes].tolist()\n",
        "\n",
        "# Decode the top k candidates back to words.\n",
        "topk_candidates_tokens = \\\n",
        "    [tokenizer.decode([idx]).strip() for idx in topk_candidates_indexes]\n",
        "\n",
        "# Return the top k candidates and their probabilities.\n",
        "list(zip(topk_candidates_tokens, topk_candidates_probabilities))"
      ],
      "metadata": {
        "id": "p6uKOlpbXOeg",
        "outputId": "2b4902e1-4913-481f-dd3b-ac2853679827",
        "colab": {
          "base_uri": "https://localhost:8080/"
        }
      },
      "execution_count": null,
      "outputs": [
        {
          "output_type": "execute_result",
          "data": {
            "text/plain": [
              "[('', 0.2895686626434326),\n",
              " ('vern', 0.2207818478345871),\n",
              " ('iced', 0.1783422827720642),\n",
              " ('urch', 0.020242610946297646),\n",
              " ('________', 0.019794294610619545),\n",
              " ('____', 0.019121358171105385),\n",
              " ('urn', 0.015532216988503933),\n",
              " ('ike', 0.011696101166307926),\n",
              " ('�', 0.010702322237193584),\n",
              " ('irc', 0.010284041985869408)]"
            ]
          },
          "metadata": {},
          "execution_count": 55
        }
      ]
    },
    {
      "cell_type": "code",
      "source": [
        "from tqdm.notebook import tqdm\n",
        "\n",
        "# Now we train the model\n",
        "\n",
        "batch_size = 32\n",
        "optimizer = torch.optim.AdamW(model.parameters(), lr=1e-3)\n",
        "\n",
        "with tqdm(range(10000)) as steps:\n",
        "\n",
        "  for step in steps:\n",
        "    steps.set_description(f\"Loss {loss.item()}\")\n",
        "\n",
        "    # sample a batch of data\n",
        "\n",
        "\n",
        "    # evaluate the loss\n",
        "    logits, loss = m(xb, yb)\n",
        "    optimizer.zero_grad(set_to_none=True)\n",
        "    loss.backward()\n",
        "    optimizer.step()\n",
        "\n",
        "# print(loss.item())"
      ],
      "metadata": {
        "id": "nJ_88t3GyNU2",
        "outputId": "d3e4aae6-6312-46fb-dda3-6356b52077f9",
        "colab": {
          "base_uri": "https://localhost:8080/",
          "height": 277,
          "referenced_widgets": [
            "acfc5fb9ee954d43a9b3ebc1f76ba986",
            "91235cba29344edd878225617528adb7",
            "09f1f8e5578a430ba2fa2e47b0eaa270",
            "5da9c666b755414ea65c6567a2640c75",
            "4d83aebe84c74745b47c3f52bd2d0328",
            "058272e0712b4fddad05c0123b9238a9",
            "448fab35a9fb44a6969061ef31fa35ef",
            "5d4e7fe497ed4b13b0e32bc4f5e4854a",
            "5d10e20925234dcc8a470bcf843a7863",
            "aa087e2d4b5746c794c8e9ac34b790b7",
            "edb79be611b84b00a074f0095cab95f9"
          ]
        }
      },
      "execution_count": null,
      "outputs": [
        {
          "output_type": "display_data",
          "data": {
            "text/plain": [
              "  0%|          | 0/10000 [00:00<?, ?it/s]"
            ],
            "application/vnd.jupyter.widget-view+json": {
              "version_major": 2,
              "version_minor": 0,
              "model_id": "acfc5fb9ee954d43a9b3ebc1f76ba986"
            }
          },
          "metadata": {}
        },
        {
          "output_type": "error",
          "ename": "NameError",
          "evalue": "ignored",
          "traceback": [
            "\u001b[0;31m---------------------------------------------------------------------------\u001b[0m",
            "\u001b[0;31mNameError\u001b[0m                                 Traceback (most recent call last)",
            "\u001b[0;32m<ipython-input-43-98a94ce84a8f>\u001b[0m in \u001b[0;36m<cell line: 8>\u001b[0;34m()\u001b[0m\n\u001b[1;32m     15\u001b[0m \u001b[0;34m\u001b[0m\u001b[0m\n\u001b[1;32m     16\u001b[0m     \u001b[0;31m# evaluate the loss\u001b[0m\u001b[0;34m\u001b[0m\u001b[0;34m\u001b[0m\u001b[0m\n\u001b[0;32m---> 17\u001b[0;31m     \u001b[0mlogits\u001b[0m\u001b[0;34m,\u001b[0m \u001b[0mloss\u001b[0m \u001b[0;34m=\u001b[0m \u001b[0mm\u001b[0m\u001b[0;34m(\u001b[0m\u001b[0mxb\u001b[0m\u001b[0;34m,\u001b[0m \u001b[0myb\u001b[0m\u001b[0;34m)\u001b[0m\u001b[0;34m\u001b[0m\u001b[0;34m\u001b[0m\u001b[0m\n\u001b[0m\u001b[1;32m     18\u001b[0m     \u001b[0moptimizer\u001b[0m\u001b[0;34m.\u001b[0m\u001b[0mzero_grad\u001b[0m\u001b[0;34m(\u001b[0m\u001b[0mset_to_none\u001b[0m\u001b[0;34m=\u001b[0m\u001b[0;32mTrue\u001b[0m\u001b[0;34m)\u001b[0m\u001b[0;34m\u001b[0m\u001b[0;34m\u001b[0m\u001b[0m\n\u001b[1;32m     19\u001b[0m     \u001b[0mloss\u001b[0m\u001b[0;34m.\u001b[0m\u001b[0mbackward\u001b[0m\u001b[0;34m(\u001b[0m\u001b[0;34m)\u001b[0m\u001b[0;34m\u001b[0m\u001b[0;34m\u001b[0m\u001b[0m\n",
            "\u001b[0;31mNameError\u001b[0m: name 'm' is not defined"
          ]
        }
      ]
    },
    {
      "cell_type": "code",
      "source": [
        "\n",
        "x, y = get_batch(\"test\")\n",
        "\n",
        "\n",
        "\n",
        "print(x.shape,y.shape)"
      ],
      "metadata": {
        "id": "k-qp6M5hzgrc",
        "outputId": "d2148cb7-861c-4046-bf2e-a7c274dfbfef",
        "colab": {
          "base_uri": "https://localhost:8080/"
        }
      },
      "execution_count": null,
      "outputs": [
        {
          "output_type": "stream",
          "name": "stdout",
          "text": [
            "torch.Size([4, 8]) torch.Size([4, 8])\n"
          ]
        }
      ]
    },
    {
      "cell_type": "code",
      "source": [
        "print(decode(m.generate(idx=val_data[:1], max_new_tokens=500)[0].tolist()))\n"
      ],
      "metadata": {
        "id": "nknXMaoUyPjt",
        "outputId": "2fff5658-2fd6-4c45-ed10-1e292a185ca9",
        "colab": {
          "base_uri": "https://localhost:8080/",
          "height": 297
        }
      },
      "execution_count": null,
      "outputs": [
        {
          "output_type": "error",
          "ename": "IndexError",
          "evalue": "ignored",
          "traceback": [
            "\u001b[0;31m---------------------------------------------------------------------------\u001b[0m",
            "\u001b[0;31mIndexError\u001b[0m                                Traceback (most recent call last)",
            "\u001b[0;32m<ipython-input-52-1179032f8b07>\u001b[0m in \u001b[0;36m<cell line: 1>\u001b[0;34m()\u001b[0m\n\u001b[0;32m----> 1\u001b[0;31m \u001b[0mprint\u001b[0m\u001b[0;34m(\u001b[0m\u001b[0mdecode\u001b[0m\u001b[0;34m(\u001b[0m\u001b[0mm\u001b[0m\u001b[0;34m.\u001b[0m\u001b[0mgenerate\u001b[0m\u001b[0;34m(\u001b[0m\u001b[0midx\u001b[0m\u001b[0;34m=\u001b[0m\u001b[0mval_data\u001b[0m\u001b[0;34m[\u001b[0m\u001b[0;34m:\u001b[0m\u001b[0;36m1\u001b[0m\u001b[0;34m]\u001b[0m\u001b[0;34m,\u001b[0m \u001b[0mmax_new_tokens\u001b[0m\u001b[0;34m=\u001b[0m\u001b[0;36m500\u001b[0m\u001b[0;34m)\u001b[0m\u001b[0;34m[\u001b[0m\u001b[0;36m0\u001b[0m\u001b[0;34m]\u001b[0m\u001b[0;34m.\u001b[0m\u001b[0mtolist\u001b[0m\u001b[0;34m(\u001b[0m\u001b[0;34m)\u001b[0m\u001b[0;34m)\u001b[0m\u001b[0;34m)\u001b[0m\u001b[0;34m\u001b[0m\u001b[0;34m\u001b[0m\u001b[0m\n\u001b[0m",
            "\u001b[0;32m<ipython-input-24-d54917f28a33>\u001b[0m in \u001b[0;36mgenerate\u001b[0;34m(self, idx, max_new_tokens)\u001b[0m\n\u001b[1;32m     30\u001b[0m             \u001b[0mlogits\u001b[0m\u001b[0;34m,\u001b[0m \u001b[0mloss\u001b[0m \u001b[0;34m=\u001b[0m \u001b[0mself\u001b[0m\u001b[0;34m(\u001b[0m\u001b[0midx\u001b[0m\u001b[0;34m)\u001b[0m\u001b[0;34m\u001b[0m\u001b[0;34m\u001b[0m\u001b[0m\n\u001b[1;32m     31\u001b[0m             \u001b[0;31m# focus only on the last time steop\u001b[0m\u001b[0;34m\u001b[0m\u001b[0;34m\u001b[0m\u001b[0m\n\u001b[0;32m---> 32\u001b[0;31m             \u001b[0mlogits\u001b[0m \u001b[0;34m=\u001b[0m \u001b[0mlogits\u001b[0m\u001b[0;34m[\u001b[0m\u001b[0;34m:\u001b[0m\u001b[0;34m,\u001b[0m \u001b[0;34m-\u001b[0m\u001b[0;36m1\u001b[0m\u001b[0;34m,\u001b[0m \u001b[0;34m:\u001b[0m\u001b[0;34m]\u001b[0m \u001b[0;31m# becomes (B,C)\u001b[0m\u001b[0;34m\u001b[0m\u001b[0;34m\u001b[0m\u001b[0m\n\u001b[0m\u001b[1;32m     33\u001b[0m             \u001b[0;31m# apply softmax to get probabilities\u001b[0m\u001b[0;34m\u001b[0m\u001b[0;34m\u001b[0m\u001b[0m\n\u001b[1;32m     34\u001b[0m             \u001b[0mprobs\u001b[0m \u001b[0;34m=\u001b[0m \u001b[0mF\u001b[0m\u001b[0;34m.\u001b[0m\u001b[0msoftmax\u001b[0m\u001b[0;34m(\u001b[0m\u001b[0mlogits\u001b[0m\u001b[0;34m,\u001b[0m \u001b[0mdim\u001b[0m\u001b[0;34m=\u001b[0m\u001b[0;34m-\u001b[0m\u001b[0;36m1\u001b[0m\u001b[0;34m)\u001b[0m \u001b[0;31m# (B, C)\u001b[0m\u001b[0;34m\u001b[0m\u001b[0;34m\u001b[0m\u001b[0m\n",
            "\u001b[0;31mIndexError\u001b[0m: too many indices for tensor of dimension 2"
          ]
        }
      ]
    },
    {
      "cell_type": "code",
      "source": [],
      "metadata": {
        "id": "IteKaBCFyYEO"
      },
      "execution_count": null,
      "outputs": []
    }
  ],
  "metadata": {
    "colab": {
      "provenance": [],
      "include_colab_link": true
    },
    "kernelspec": {
      "display_name": "Python 3",
      "name": "python3"
    },
    "language_info": {
      "name": "python"
    },
    "widgets": {
      "application/vnd.jupyter.widget-state+json": {
        "acfc5fb9ee954d43a9b3ebc1f76ba986": {
          "model_module": "@jupyter-widgets/controls",
          "model_name": "HBoxModel",
          "model_module_version": "1.5.0",
          "state": {
            "_dom_classes": [],
            "_model_module": "@jupyter-widgets/controls",
            "_model_module_version": "1.5.0",
            "_model_name": "HBoxModel",
            "_view_count": null,
            "_view_module": "@jupyter-widgets/controls",
            "_view_module_version": "1.5.0",
            "_view_name": "HBoxView",
            "box_style": "",
            "children": [
              "IPY_MODEL_91235cba29344edd878225617528adb7",
              "IPY_MODEL_09f1f8e5578a430ba2fa2e47b0eaa270",
              "IPY_MODEL_5da9c666b755414ea65c6567a2640c75"
            ],
            "layout": "IPY_MODEL_4d83aebe84c74745b47c3f52bd2d0328"
          }
        },
        "91235cba29344edd878225617528adb7": {
          "model_module": "@jupyter-widgets/controls",
          "model_name": "HTMLModel",
          "model_module_version": "1.5.0",
          "state": {
            "_dom_classes": [],
            "_model_module": "@jupyter-widgets/controls",
            "_model_module_version": "1.5.0",
            "_model_name": "HTMLModel",
            "_view_count": null,
            "_view_module": "@jupyter-widgets/controls",
            "_view_module_version": "1.5.0",
            "_view_name": "HTMLView",
            "description": "",
            "description_tooltip": null,
            "layout": "IPY_MODEL_058272e0712b4fddad05c0123b9238a9",
            "placeholder": "​",
            "style": "IPY_MODEL_448fab35a9fb44a6969061ef31fa35ef",
            "value": "Loss 3.9901630878448486:   0%"
          }
        },
        "09f1f8e5578a430ba2fa2e47b0eaa270": {
          "model_module": "@jupyter-widgets/controls",
          "model_name": "FloatProgressModel",
          "model_module_version": "1.5.0",
          "state": {
            "_dom_classes": [],
            "_model_module": "@jupyter-widgets/controls",
            "_model_module_version": "1.5.0",
            "_model_name": "FloatProgressModel",
            "_view_count": null,
            "_view_module": "@jupyter-widgets/controls",
            "_view_module_version": "1.5.0",
            "_view_name": "ProgressView",
            "bar_style": "danger",
            "description": "",
            "description_tooltip": null,
            "layout": "IPY_MODEL_5d4e7fe497ed4b13b0e32bc4f5e4854a",
            "max": 10000,
            "min": 0,
            "orientation": "horizontal",
            "style": "IPY_MODEL_5d10e20925234dcc8a470bcf843a7863",
            "value": 0
          }
        },
        "5da9c666b755414ea65c6567a2640c75": {
          "model_module": "@jupyter-widgets/controls",
          "model_name": "HTMLModel",
          "model_module_version": "1.5.0",
          "state": {
            "_dom_classes": [],
            "_model_module": "@jupyter-widgets/controls",
            "_model_module_version": "1.5.0",
            "_model_name": "HTMLModel",
            "_view_count": null,
            "_view_module": "@jupyter-widgets/controls",
            "_view_module_version": "1.5.0",
            "_view_name": "HTMLView",
            "description": "",
            "description_tooltip": null,
            "layout": "IPY_MODEL_aa087e2d4b5746c794c8e9ac34b790b7",
            "placeholder": "​",
            "style": "IPY_MODEL_edb79be611b84b00a074f0095cab95f9",
            "value": " 0/10000 [00:00&lt;?, ?it/s]"
          }
        },
        "4d83aebe84c74745b47c3f52bd2d0328": {
          "model_module": "@jupyter-widgets/base",
          "model_name": "LayoutModel",
          "model_module_version": "1.2.0",
          "state": {
            "_model_module": "@jupyter-widgets/base",
            "_model_module_version": "1.2.0",
            "_model_name": "LayoutModel",
            "_view_count": null,
            "_view_module": "@jupyter-widgets/base",
            "_view_module_version": "1.2.0",
            "_view_name": "LayoutView",
            "align_content": null,
            "align_items": null,
            "align_self": null,
            "border": null,
            "bottom": null,
            "display": null,
            "flex": null,
            "flex_flow": null,
            "grid_area": null,
            "grid_auto_columns": null,
            "grid_auto_flow": null,
            "grid_auto_rows": null,
            "grid_column": null,
            "grid_gap": null,
            "grid_row": null,
            "grid_template_areas": null,
            "grid_template_columns": null,
            "grid_template_rows": null,
            "height": null,
            "justify_content": null,
            "justify_items": null,
            "left": null,
            "margin": null,
            "max_height": null,
            "max_width": null,
            "min_height": null,
            "min_width": null,
            "object_fit": null,
            "object_position": null,
            "order": null,
            "overflow": null,
            "overflow_x": null,
            "overflow_y": null,
            "padding": null,
            "right": null,
            "top": null,
            "visibility": null,
            "width": null
          }
        },
        "058272e0712b4fddad05c0123b9238a9": {
          "model_module": "@jupyter-widgets/base",
          "model_name": "LayoutModel",
          "model_module_version": "1.2.0",
          "state": {
            "_model_module": "@jupyter-widgets/base",
            "_model_module_version": "1.2.0",
            "_model_name": "LayoutModel",
            "_view_count": null,
            "_view_module": "@jupyter-widgets/base",
            "_view_module_version": "1.2.0",
            "_view_name": "LayoutView",
            "align_content": null,
            "align_items": null,
            "align_self": null,
            "border": null,
            "bottom": null,
            "display": null,
            "flex": null,
            "flex_flow": null,
            "grid_area": null,
            "grid_auto_columns": null,
            "grid_auto_flow": null,
            "grid_auto_rows": null,
            "grid_column": null,
            "grid_gap": null,
            "grid_row": null,
            "grid_template_areas": null,
            "grid_template_columns": null,
            "grid_template_rows": null,
            "height": null,
            "justify_content": null,
            "justify_items": null,
            "left": null,
            "margin": null,
            "max_height": null,
            "max_width": null,
            "min_height": null,
            "min_width": null,
            "object_fit": null,
            "object_position": null,
            "order": null,
            "overflow": null,
            "overflow_x": null,
            "overflow_y": null,
            "padding": null,
            "right": null,
            "top": null,
            "visibility": null,
            "width": null
          }
        },
        "448fab35a9fb44a6969061ef31fa35ef": {
          "model_module": "@jupyter-widgets/controls",
          "model_name": "DescriptionStyleModel",
          "model_module_version": "1.5.0",
          "state": {
            "_model_module": "@jupyter-widgets/controls",
            "_model_module_version": "1.5.0",
            "_model_name": "DescriptionStyleModel",
            "_view_count": null,
            "_view_module": "@jupyter-widgets/base",
            "_view_module_version": "1.2.0",
            "_view_name": "StyleView",
            "description_width": ""
          }
        },
        "5d4e7fe497ed4b13b0e32bc4f5e4854a": {
          "model_module": "@jupyter-widgets/base",
          "model_name": "LayoutModel",
          "model_module_version": "1.2.0",
          "state": {
            "_model_module": "@jupyter-widgets/base",
            "_model_module_version": "1.2.0",
            "_model_name": "LayoutModel",
            "_view_count": null,
            "_view_module": "@jupyter-widgets/base",
            "_view_module_version": "1.2.0",
            "_view_name": "LayoutView",
            "align_content": null,
            "align_items": null,
            "align_self": null,
            "border": null,
            "bottom": null,
            "display": null,
            "flex": null,
            "flex_flow": null,
            "grid_area": null,
            "grid_auto_columns": null,
            "grid_auto_flow": null,
            "grid_auto_rows": null,
            "grid_column": null,
            "grid_gap": null,
            "grid_row": null,
            "grid_template_areas": null,
            "grid_template_columns": null,
            "grid_template_rows": null,
            "height": null,
            "justify_content": null,
            "justify_items": null,
            "left": null,
            "margin": null,
            "max_height": null,
            "max_width": null,
            "min_height": null,
            "min_width": null,
            "object_fit": null,
            "object_position": null,
            "order": null,
            "overflow": null,
            "overflow_x": null,
            "overflow_y": null,
            "padding": null,
            "right": null,
            "top": null,
            "visibility": null,
            "width": null
          }
        },
        "5d10e20925234dcc8a470bcf843a7863": {
          "model_module": "@jupyter-widgets/controls",
          "model_name": "ProgressStyleModel",
          "model_module_version": "1.5.0",
          "state": {
            "_model_module": "@jupyter-widgets/controls",
            "_model_module_version": "1.5.0",
            "_model_name": "ProgressStyleModel",
            "_view_count": null,
            "_view_module": "@jupyter-widgets/base",
            "_view_module_version": "1.2.0",
            "_view_name": "StyleView",
            "bar_color": null,
            "description_width": ""
          }
        },
        "aa087e2d4b5746c794c8e9ac34b790b7": {
          "model_module": "@jupyter-widgets/base",
          "model_name": "LayoutModel",
          "model_module_version": "1.2.0",
          "state": {
            "_model_module": "@jupyter-widgets/base",
            "_model_module_version": "1.2.0",
            "_model_name": "LayoutModel",
            "_view_count": null,
            "_view_module": "@jupyter-widgets/base",
            "_view_module_version": "1.2.0",
            "_view_name": "LayoutView",
            "align_content": null,
            "align_items": null,
            "align_self": null,
            "border": null,
            "bottom": null,
            "display": null,
            "flex": null,
            "flex_flow": null,
            "grid_area": null,
            "grid_auto_columns": null,
            "grid_auto_flow": null,
            "grid_auto_rows": null,
            "grid_column": null,
            "grid_gap": null,
            "grid_row": null,
            "grid_template_areas": null,
            "grid_template_columns": null,
            "grid_template_rows": null,
            "height": null,
            "justify_content": null,
            "justify_items": null,
            "left": null,
            "margin": null,
            "max_height": null,
            "max_width": null,
            "min_height": null,
            "min_width": null,
            "object_fit": null,
            "object_position": null,
            "order": null,
            "overflow": null,
            "overflow_x": null,
            "overflow_y": null,
            "padding": null,
            "right": null,
            "top": null,
            "visibility": null,
            "width": null
          }
        },
        "edb79be611b84b00a074f0095cab95f9": {
          "model_module": "@jupyter-widgets/controls",
          "model_name": "DescriptionStyleModel",
          "model_module_version": "1.5.0",
          "state": {
            "_model_module": "@jupyter-widgets/controls",
            "_model_module_version": "1.5.0",
            "_model_name": "DescriptionStyleModel",
            "_view_count": null,
            "_view_module": "@jupyter-widgets/base",
            "_view_module_version": "1.2.0",
            "_view_name": "StyleView",
            "description_width": ""
          }
        }
      }
    }
  },
  "nbformat": 4,
  "nbformat_minor": 0
}